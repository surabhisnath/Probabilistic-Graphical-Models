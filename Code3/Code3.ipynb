{
 "cells": [
  {
   "cell_type": "code",
   "execution_count": 30,
   "metadata": {},
   "outputs": [],
   "source": [
    "import numpy as np\n",
    "import pandas as pd\n",
    "from scipy.stats import norm\n",
    "from sklearn.metrics import accuracy_score, confusion_matrix, classification_report\n",
    "import matplotlib.pyplot as plt"
   ]
  },
  {
   "cell_type": "code",
   "execution_count": 2,
   "metadata": {},
   "outputs": [],
   "source": [
    "data = pd.read_excel(\"PGM_Assignment3.xlsx\", header=None)"
   ]
  },
  {
   "cell_type": "code",
   "execution_count": 3,
   "metadata": {},
   "outputs": [],
   "source": [
    "labels = data[7]"
   ]
  },
  {
   "cell_type": "code",
   "execution_count": 4,
   "metadata": {},
   "outputs": [],
   "source": [
    "unique, counts = np.unique(labels, return_counts=True)"
   ]
  },
  {
   "cell_type": "code",
   "execution_count": 5,
   "metadata": {},
   "outputs": [
    {
     "data": {
      "text/plain": [
       "{1: 70, 2: 70, 3: 70}"
      ]
     },
     "execution_count": 5,
     "metadata": {},
     "output_type": "execute_result"
    }
   ],
   "source": [
    "dict(zip(unique, counts))"
   ]
  },
  {
   "cell_type": "code",
   "execution_count": 6,
   "metadata": {},
   "outputs": [],
   "source": [
    "num_train = 56\n",
    "num_test = 14"
   ]
  },
  {
   "cell_type": "code",
   "execution_count": 7,
   "metadata": {},
   "outputs": [],
   "source": [
    "class1 = data.loc[data[7] == 1]\n",
    "class1_train = class1[:num_train]\n",
    "class1_test = class1[num_train:]\n",
    "class1 = np.array(class1)\n",
    "class1_train = np.array(class1_train)\n",
    "class1_test = np.array(class1_test)\n",
    "\n",
    "class2 = data.loc[data[7] == 2]\n",
    "class2_train = class2[:num_train]\n",
    "class2_test = class2[num_train:]\n",
    "class2 = np.array(class2)\n",
    "class2_train = np.array(class2_train)\n",
    "class2_test = np.array(class2_test)\n",
    "\n",
    "class3 = data.loc[data[7] == 3]\n",
    "class3_train = class3[:num_train]\n",
    "class3_test = class3[num_train:]\n",
    "class3 = np.array(class3)\n",
    "class3_train = np.array(class3_train)\n",
    "class3_test = np.array(class3_test)"
   ]
  },
  {
   "cell_type": "code",
   "execution_count": 8,
   "metadata": {},
   "outputs": [],
   "source": [
    "mean1 = class1_train.mean(axis=0)\n",
    "std1 = class1_train.std(axis=0)"
   ]
  },
  {
   "cell_type": "code",
   "execution_count": 9,
   "metadata": {},
   "outputs": [],
   "source": [
    "mean2 = class2_train.mean(axis=0)\n",
    "std2 = class2_train.std(axis=0)"
   ]
  },
  {
   "cell_type": "code",
   "execution_count": 10,
   "metadata": {},
   "outputs": [],
   "source": [
    "mean3 = class3_train.mean(axis=0)\n",
    "std3 = class3_train.std(axis=0)"
   ]
  },
  {
   "cell_type": "code",
   "execution_count": 11,
   "metadata": {},
   "outputs": [],
   "source": [
    "prob1bin = 0.5\n",
    "prob2bin = 0.5\n",
    "\n",
    "prob1 = 0.33\n",
    "prob2 = 0.33\n",
    "prob3 = 0.33"
   ]
  },
  {
   "cell_type": "code",
   "execution_count": 12,
   "metadata": {},
   "outputs": [],
   "source": [
    "def classifybin(arr, label):\n",
    "    preds = []\n",
    "    for dpt in arr:\n",
    "        p1 = prob1bin\n",
    "        for i in range(len(dpt)):\n",
    "            if i == 7:\n",
    "                assert std1[i] == 0\n",
    "                break\n",
    "            p1 *= norm.pdf(dpt[i], mean1[i], std1[i])\n",
    "\n",
    "        p2 = prob2bin\n",
    "        for i in range(len(dpt)):\n",
    "            if i == 7:\n",
    "                break\n",
    "            p2 *= norm.pdf(dpt[i], mean2[i], std2[i])\n",
    "\n",
    "        classlabel = np.argmax([p1, p2]) + 1\n",
    "        preds.append(classlabel)\n",
    "    \n",
    "    return preds"
   ]
  },
  {
   "cell_type": "code",
   "execution_count": 19,
   "metadata": {},
   "outputs": [],
   "source": [
    "def classifytri(arr, label):\n",
    "    preds = []\n",
    "    for dpt in arr:\n",
    "        p1 = prob1\n",
    "        for i in range(len(dpt)):\n",
    "            if i == 7:\n",
    "                break\n",
    "            p1 *= norm.pdf(dpt[i], mean1[i], std1[i])\n",
    "\n",
    "        p2 = prob2\n",
    "        for i in range(len(dpt)):\n",
    "            if i == 7:\n",
    "                break\n",
    "            p2 *= norm.pdf(dpt[i], mean2[i], std2[i])\n",
    "\n",
    "        p3 = prob3\n",
    "        for i in range(len(dpt)):\n",
    "            if i == 7:\n",
    "                break\n",
    "            p3 *= norm.pdf(dpt[i], mean3[i], std3[i])\n",
    "\n",
    "        classlabel = np.argmax([p1, p2, p3]) + 1\n",
    "        preds.append(classlabel)\n",
    "\n",
    "    return preds"
   ]
  },
  {
   "cell_type": "code",
   "execution_count": 28,
   "metadata": {},
   "outputs": [],
   "source": [
    "def plot_confusion_matrix(cm, classes,\n",
    "                          normalize=False,\n",
    "                          title='Confusion matrix',\n",
    "                          cmap=plt.cm.Blues):\n",
    "    \"\"\"\n",
    "    This function prints and plots the confusion matrix.\n",
    "    Normalization can be applied by setting `normalize=True`.\n",
    "    \"\"\"\n",
    "    import itertools\n",
    "    if normalize:\n",
    "        cm = cm.astype('float') / cm.sum(axis=1)[:, np.newaxis]\n",
    "        #print(\"Normalized confusion matrix\")\n",
    "    \n",
    "    plt.imshow(cm, interpolation='nearest', cmap=cmap)\n",
    "    plt.title(title)\n",
    "    plt.colorbar()\n",
    "    tick_marks = np.arange(len(classes))\n",
    "    plt.xticks(tick_marks, classes, rotation=45)\n",
    "    plt.yticks(tick_marks, classes)\n",
    "\n",
    "    fmt = '.2f' if normalize else 'd'\n",
    "    thresh = cm.max() / 2.\n",
    "    for i, j in itertools.product(range(cm.shape[0]), range(cm.shape[1])):\n",
    "        plt.text(j, i, format(cm[i, j], fmt),\n",
    "                 horizontalalignment=\"center\",\n",
    "                 color=\"white\" if cm[i, j] > thresh else \"black\")\n",
    "\n",
    "    plt.ylabel('True label')\n",
    "    plt.xlabel('Predicted label')\n",
    "    plt.tight_layout()"
   ]
  },
  {
   "cell_type": "markdown",
   "metadata": {},
   "source": [
    "# Binary Classification"
   ]
  },
  {
   "cell_type": "code",
   "execution_count": 34,
   "metadata": {},
   "outputs": [
    {
     "name": "stdout",
     "output_type": "stream",
     "text": [
      "Accuracy = 0.8214285714285714\n",
      "\n",
      "              precision    recall  f1-score   support\n",
      "\n",
      "           1       1.00      0.74      0.85        19\n",
      "           2       0.64      1.00      0.78         9\n",
      "\n",
      "    accuracy                           0.82        28\n",
      "   macro avg       0.82      0.87      0.82        28\n",
      "weighted avg       0.89      0.82      0.83        28\n",
      "\n"
     ]
    },
    {
     "data": {
      "image/png": "[encoded data removed]",
      "text/plain": [
       "<Figure size 432x288 with 2 Axes>"
      ]
     },
     "metadata": {
      "needs_background": "light"
     },
     "output_type": "display_data"
    }
   ],
   "source": [
    "preds = classifybin(class1_test, 1)\n",
    "preds2 = classifybin(class2_test, 2)\n",
    "preds.extend(preds2)\n",
    "actual = [1]*len(class1_test)\n",
    "actual.extend([2]*len(class2_test))\n",
    "print(\"Accuracy =\", accuracy_score(preds, actual))\n",
    "print()\n",
    "print(classification_report(preds, actual))\n",
    "\n",
    "cnf_matrix = confusion_matrix(actual, preds, labels=[1, 2])\n",
    "\n",
    "plt.figure()\n",
    "plot_confusion_matrix(cnf_matrix, classes=[1, 2])"
   ]
  },
  {
   "cell_type": "markdown",
   "metadata": {},
   "source": [
    "# Tri-class Classification"
   ]
  },
  {
   "cell_type": "code",
   "execution_count": 39,
   "metadata": {},
   "outputs": [
    {
     "name": "stdout",
     "output_type": "stream",
     "text": [
      "Accuracy = 0.6904761904761905\n",
      "\n",
      "              precision    recall  f1-score   support\n",
      "\n",
      "           1       0.71      0.53      0.61        19\n",
      "           2       0.64      1.00      0.78         9\n",
      "           3       0.71      0.71      0.71        14\n",
      "\n",
      "    accuracy                           0.69        42\n",
      "   macro avg       0.69      0.75      0.70        42\n",
      "weighted avg       0.70      0.69      0.68        42\n",
      "\n"
     ]
    },
    {
     "data": {
      "image/png": "[encoded data removed]",
      "text/plain": [
       "<Figure size 432x288 with 2 Axes>"
      ]
     },
     "metadata": {
      "needs_background": "light"
     },
     "output_type": "display_data"
    }
   ],
   "source": [
    "preds = classifytri(class1_test, 1)\n",
    "preds2 = classifytri(class2_test, 2)\n",
    "preds3 = classifytri(class3_test, 3)\n",
    "preds.extend(preds2)\n",
    "preds.extend(preds3)\n",
    "actual = [1]*len(class1_test)\n",
    "actual.extend([2]*len(class2_test))\n",
    "actual.extend([3]*len(class3_test))\n",
    "print(\"Accuracy =\", accuracy_score(preds, actual))\n",
    "print()\n",
    "print(classification_report(preds, actual))\n",
    "\n",
    "cnf_matrix = confusion_matrix(actual, preds, labels=[1, 2, 3])\n",
    "\n",
    "plt.figure()\n",
    "plot_confusion_matrix(cnf_matrix, classes=[1, 2, 3])"
   ]
  }
 ],
 "metadata": {
  "kernelspec": {
   "display_name": "Python 3",
   "language": "python",
   "name": "python3"
  },
  "language_info": {
   "codemirror_mode": {
    "name": "ipython",
    "version": 3
   },
   "file_extension": ".py",
   "mimetype": "text/x-python",
   "name": "python",
   "nbconvert_exporter": "python",
   "pygments_lexer": "ipython3",
   "version": "3.7.4"
  }
 },
 "nbformat": 4,
 "nbformat_minor": 2
}
